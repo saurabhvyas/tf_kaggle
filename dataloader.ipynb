{
 "cells": [
  {
   "cell_type": "code",
   "execution_count": 23,
   "metadata": {
    "collapsed": true
   },
   "outputs": [],
   "source": [
    "# for each folder in data folder , get name of the folder , and all files paths in that folder\n",
    "\n",
    "import os\n",
    "from os import listdir\n",
    "from os.path import isfile, join\n",
    "from pathlib import Path\n"
   ]
  },
  {
   "cell_type": "code",
   "execution_count": 27,
   "metadata": {},
   "outputs": [],
   "source": [
    "output_csv_path = '/home/saurabh/Documents/tf_kaggle/train.txt'"
   ]
  },
  {
   "cell_type": "code",
   "execution_count": 28,
   "metadata": {},
   "outputs": [],
   "source": [
    "d = '/home/saurabh/Documents/tf_kaggle/data'\n",
    "\n",
    "\n",
    "directory_list=[os.path.join(d, o) for o in os.listdir(d) \n",
    "                    if os.path.isdir(os.path.join(d,o))]\n",
    "\n",
    "\n",
    "def get_filenames_in_dir(dir):\n",
    "    return [f for f in listdir(dir) if isfile(join(dir, f))]"
   ]
  },
  {
   "cell_type": "code",
   "execution_count": 29,
   "metadata": {},
   "outputs": [],
   "source": [
    "\n",
    "\n",
    "with open(output_csv_path, \"a\") as myfile:\n",
    "    for directory in directory_list:\n",
    "        folder = Path(directory).name\n",
    "        for file in get_filenames_in_dir(directory):\n",
    "             \n",
    "            myfile.write(\"\\n\" + directory + '/' +  file + \" , \" + folder )\n",
    "\n",
    "\n",
    "\n",
    "    \n",
    "    "
   ]
  },
  {
   "cell_type": "code",
   "execution_count": null,
   "metadata": {},
   "outputs": [],
   "source": []
  },
  {
   "cell_type": "code",
   "execution_count": null,
   "metadata": {},
   "outputs": [],
   "source": []
  },
  {
   "cell_type": "code",
   "execution_count": null,
   "metadata": {
    "collapsed": true
   },
   "outputs": [],
   "source": []
  }
 ],
 "metadata": {
  "kernelspec": {
   "display_name": "tf_orange",
   "language": "python",
   "name": "tf_orange"
  },
  "language_info": {
   "codemirror_mode": {
    "name": "ipython",
    "version": 3
   },
   "file_extension": ".py",
   "mimetype": "text/x-python",
   "name": "python",
   "nbconvert_exporter": "python",
   "pygments_lexer": "ipython3",
   "version": "3.6.1"
  }
 },
 "nbformat": 4,
 "nbformat_minor": 2
}
